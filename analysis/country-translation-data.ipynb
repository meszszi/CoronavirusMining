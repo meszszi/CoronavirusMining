{
 "cells": [
  {
   "cell_type": "code",
   "execution_count": 1,
   "metadata": {},
   "outputs": [],
   "source": [
    "import numpy as np\n",
    "import pandas as pd\n",
    "import json\n",
    "import glob\n",
    "import pycountry\n",
    "from html.parser import HTMLParser\n",
    "from bs4 import BeautifulSoup\n",
    "import re"
   ]
  },
  {
   "cell_type": "markdown",
   "metadata": {},
   "source": [
    "## parse html tables to dataframe\n",
    "\n",
    "countries names source:\n",
    "https://www.omniglot.com/countries/"
   ]
  },
  {
   "cell_type": "code",
   "execution_count": 2,
   "metadata": {},
   "outputs": [],
   "source": [
    "def clean_fun(s):\n",
    "    \n",
    "    # remove text in (brackets)\n",
    "    s = re.sub('\\(.*\\)', '', s)\n",
    "    \n",
    "    # remove multiple and trailing whitespaces\n",
    "    s = ' '.join(s.split())\n",
    "    \n",
    "    # remove [] chars\n",
    "    for bracket in '[]':\n",
    "        s = s.replace(bracket, '')\n",
    "        \n",
    "    # to lower case\n",
    "    s = s.lower()\n",
    "    \n",
    "    return s\n",
    "\n",
    "def parse_country(soup, clean_fun=clean_fun):\n",
    "    english_name, native_names = soup.find_all('td')\n",
    "    english_name = english_name.get_text().lower()\n",
    "    native_names = native_names.get_text().lower().split('\\n')\n",
    "    \n",
    "    if clean_fun is not None:\n",
    "        english_name = clean_fun(english_name)\n",
    "        native_names = [clean_fun(n) for n in native_names]\n",
    "        native_names = [n for n in native_names if n != '']\n",
    "    \n",
    "    return english_name, native_names\n",
    "\n",
    "def country_mapping_from_html(html_file, continent):\n",
    "    # parse html file, create dataframe with english name, native names and alpha 2 code\n",
    "    \n",
    "    with open(html_file, 'r') as file:\n",
    "        html_string = file.read()\n",
    "\n",
    "    soup = BeautifulSoup(html_string, 'html.parser')\n",
    "    countries = soup.find_all('tr')\n",
    "    \n",
    "    records = []\n",
    "    for c in countries:\n",
    "        english_name, native_names = parse_country(c)\n",
    "        \n",
    "        alpha_2 = None\n",
    "        \n",
    "        for pattern in [english_name] + native_names:\n",
    "            try:\n",
    "                country_data = pycountry.countries.search_fuzzy(pattern)\n",
    "                alpha_2 = country_data[0].alpha_2\n",
    "            \n",
    "            except LookupError:\n",
    "                pass\n",
    "            \n",
    "            if alpha_2 is not None:\n",
    "                break\n",
    "        \n",
    "        record = {\n",
    "            'continent': continent,\n",
    "            'english_name': english_name,\n",
    "            'native_names': native_names,\n",
    "            'alpha_2': alpha_2\n",
    "        }\n",
    "        \n",
    "        records.append(record)\n",
    "            \n",
    "    return pd.DataFrame(records)"
   ]
  },
  {
   "cell_type": "code",
   "execution_count": 3,
   "metadata": {},
   "outputs": [
    {
     "name": "stdout",
     "output_type": "stream",
     "text": [
      "CPU times: user 14.6 s, sys: 12.7 ms, total: 14.6 s\n",
      "Wall time: 14.6 s\n"
     ]
    }
   ],
   "source": [
    "%%time\n",
    "html_files = glob.glob('./countries-translation/*.html')\n",
    "continents = [file.split('/')[-1].split('.')[0] for file in html_files]\n",
    "\n",
    "continent_mappings = [country_mapping_from_html(f, c) for f, c in zip(html_files, continents)]"
   ]
  },
  {
   "cell_type": "code",
   "execution_count": 4,
   "metadata": {},
   "outputs": [
    {
     "data": {
      "text/plain": [
       "234"
      ]
     },
     "execution_count": 4,
     "metadata": {},
     "output_type": "execute_result"
    }
   ],
   "source": [
    "global_mapping = pd.concat(continent_mappings, ignore_index=True)\n",
    "len(global_mapping)"
   ]
  },
  {
   "cell_type": "code",
   "execution_count": 6,
   "metadata": {},
   "outputs": [
    {
     "data": {
      "text/html": [
       "<div>\n",
       "<style scoped>\n",
       "    .dataframe tbody tr th:only-of-type {\n",
       "        vertical-align: middle;\n",
       "    }\n",
       "\n",
       "    .dataframe tbody tr th {\n",
       "        vertical-align: top;\n",
       "    }\n",
       "\n",
       "    .dataframe thead th {\n",
       "        text-align: right;\n",
       "    }\n",
       "</style>\n",
       "<table border=\"1\" class=\"dataframe\">\n",
       "  <thead>\n",
       "    <tr style=\"text-align: right;\">\n",
       "      <th></th>\n",
       "      <th>continent</th>\n",
       "      <th>english_name</th>\n",
       "      <th>native_names</th>\n",
       "      <th>alpha_2</th>\n",
       "    </tr>\n",
       "  </thead>\n",
       "  <tbody>\n",
       "    <tr>\n",
       "      <th>17</th>\n",
       "      <td>europe</td>\n",
       "      <td>alsace</td>\n",
       "      <td>[alsace, elsàss, elsass / elsaß]</td>\n",
       "      <td>None</td>\n",
       "    </tr>\n",
       "    <tr>\n",
       "      <th>19</th>\n",
       "      <td>europe</td>\n",
       "      <td>languedoc-roussillon</td>\n",
       "      <td>[languedoc-roussillon, lengadòc-rosselhon, lle...</td>\n",
       "      <td>None</td>\n",
       "    </tr>\n",
       "    <tr>\n",
       "      <th>119</th>\n",
       "      <td>asia</td>\n",
       "      <td>burma / myanmar</td>\n",
       "      <td>[မြန်မာ, ဗမာ, ပြည်ထောင်စု သမ္မတ မြန်မာနိုင်ငံတ...</td>\n",
       "      <td>None</td>\n",
       "    </tr>\n",
       "    <tr>\n",
       "      <th>123</th>\n",
       "      <td>asia</td>\n",
       "      <td>macau</td>\n",
       "      <td>[澳門, (ngoumún,, àomén), macau, 澳門特別行政區, (ngoum...</td>\n",
       "      <td>None</td>\n",
       "    </tr>\n",
       "  </tbody>\n",
       "</table>\n",
       "</div>"
      ],
      "text/plain": [
       "    continent          english_name  \\\n",
       "17     europe                alsace   \n",
       "19     europe  languedoc-roussillon   \n",
       "119      asia       burma / myanmar   \n",
       "123      asia                 macau   \n",
       "\n",
       "                                          native_names alpha_2  \n",
       "17                    [alsace, elsàss, elsass / elsaß]    None  \n",
       "19   [languedoc-roussillon, lengadòc-rosselhon, lle...    None  \n",
       "119  [မြန်မာ, ဗမာ, ပြည်ထောင်စု သမ္မတ မြန်မာနိုင်ငံတ...    None  \n",
       "123  [澳門, (ngoumún,, àomén), macau, 澳門特別行政區, (ngoum...    None  "
      ]
     },
     "execution_count": 6,
     "metadata": {},
     "output_type": "execute_result"
    }
   ],
   "source": [
    "global_mapping[global_mapping['alpha_2'].isnull().values]"
   ]
  },
  {
   "cell_type": "code",
   "execution_count": 11,
   "metadata": {},
   "outputs": [
    {
     "data": {
      "text/plain": [
       "[Country(alpha_2='MM', alpha_3='MMR', name='Myanmar', numeric='104', official_name='Republic of Myanmar')]"
      ]
     },
     "execution_count": 11,
     "metadata": {},
     "output_type": "execute_result"
    }
   ],
   "source": [
    "pycountry.countries.search_fuzzy('myanmar')"
   ]
  },
  {
   "cell_type": "code",
   "execution_count": 12,
   "metadata": {},
   "outputs": [
    {
     "data": {
      "text/plain": [
       "[Country(alpha_2='MO', alpha_3='MAC', name='Macao', numeric='446', official_name='Macao Special Administrative Region of China'),\n",
       " Country(alpha_2='CN', alpha_3='CHN', name='China', numeric='156', official_name=\"People's Republic of China\")]"
      ]
     },
     "execution_count": 12,
     "metadata": {},
     "output_type": "execute_result"
    }
   ],
   "source": [
    "pycountry.countries.search_fuzzy('macao')"
   ]
  },
  {
   "cell_type": "code",
   "execution_count": 15,
   "metadata": {},
   "outputs": [],
   "source": [
    "global_mapping.iloc[119]['alpha_2'] = 'MM'\n",
    "global_mapping.iloc[123]['alpha_2'] = 'MO'"
   ]
  },
  {
   "cell_type": "code",
   "execution_count": 19,
   "metadata": {},
   "outputs": [],
   "source": [
    "global_mapping.to_csv('./countries-translation/global_names.csv')"
   ]
  }
 ],
 "metadata": {
  "kernelspec": {
   "display_name": "scientific",
   "language": "python",
   "name": "scientific"
  },
  "language_info": {
   "codemirror_mode": {
    "name": "ipython",
    "version": 3
   },
   "file_extension": ".py",
   "mimetype": "text/x-python",
   "name": "python",
   "nbconvert_exporter": "python",
   "pygments_lexer": "ipython3",
   "version": "3.6.9"
  }
 },
 "nbformat": 4,
 "nbformat_minor": 4
}
